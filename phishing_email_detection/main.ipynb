{
 "cells": [
  {
   "cell_type": "code",
   "execution_count": 2,
   "id": "5c394201-9eeb-47cf-bab5-e41918d9c6da",
   "metadata": {},
   "outputs": [],
   "source": [
    "import pandas as pd\n",
    "import numpy as np\n",
    "import re\n",
    "from nltk.corpus import stopwords\n",
    "from nltk.tokenize import word_tokenize\n",
    "from nltk.stem import WordNetLemmatizer\n",
    "from sklearn.model_selection import train_test_split\n",
    "from sklearn.feature_extraction.text import TfidfVectorizer\n",
    "from sklearn.ensemble import RandomForestClassifier\n",
    "from sklearn.metrics import classification_report, confusion_matrix, accuracy_score\n",
    "import matplotlib.pyplot as plt\n",
    "import seaborn as sns"
   ]
  },
  {
   "cell_type": "code",
   "execution_count": 3,
   "id": "0c4b8620-f31b-455b-8d42-82de4965b45b",
   "metadata": {},
   "outputs": [],
   "source": [
    "# Load the dataset\n",
    "\n",
    "df = pd.read_csv('Phishing_Email.csv')"
   ]
  },
  {
   "cell_type": "code",
   "execution_count": 4,
   "id": "90fb9e98-8503-41ef-bd78-c5c4531ba74b",
   "metadata": {},
   "outputs": [],
   "source": [
    "# Drop unnecessary columns and rename for clarity\n",
    "\n",
    "df = df.drop(columns=['Unnamed: 0'], errors='ignore')\n",
    "df = df.rename(columns={'Email Text': 'email_text', 'Email Type': 'label'})"
   ]
  },
  {
   "cell_type": "code",
   "execution_count": 5,
   "id": "4330fa3d-8919-4755-8cd5-42fd51b338dd",
   "metadata": {},
   "outputs": [],
   "source": [
    "# Handle missing values\n",
    "\n",
    "df['email_text'] = df['email_text'].astype(str)\n",
    "df['email_text'] = df['email_text'].fillna('')\n",
    "\n",
    "df['label'] = df['label'].map({'Safe Email': 0, 'Phishing Email': 1})"
   ]
  },
  {
   "cell_type": "code",
   "execution_count": 6,
   "id": "03095f00-6f65-411a-b396-48986542fb3f",
   "metadata": {},
   "outputs": [
    {
     "name": "stdout",
     "output_type": "stream",
     "text": [
      "Dataset shape: (18650, 2)\n",
      "Label distribution:\n",
      "0    11322\n",
      "1     7328\n",
      "Name: label, dtype: int64\n"
     ]
    }
   ],
   "source": [
    "# Data exploration\n",
    "\n",
    "print(\"Dataset shape:\", df.shape)\n",
    "print(\"Label distribution:\")\n",
    "print(df['label'].value_counts())"
   ]
  },
  {
   "cell_type": "code",
   "execution_count": 7,
   "id": "f28cb74a-7453-45ae-a5b2-487ace8d61e1",
   "metadata": {},
   "outputs": [
    {
     "data": {
      "image/png": "[encoded data removed]",
      "text/plain": [
       "<Figure size 640x480 with 1 Axes>"
      ]
     },
     "metadata": {},
     "output_type": "display_data"
    }
   ],
   "source": [
    "# Visualization of label distribution\n",
    "\n",
    "sns.countplot(x='label', data=df)\n",
    "plt.title('Label Distribution')\n",
    "plt.xlabel('Label (0: Safe, 1: Phishing)')\n",
    "plt.ylabel('Count')\n",
    "plt.show()"
   ]
  },
  {
   "cell_type": "code",
   "execution_count": 8,
   "id": "93af336a-5297-4a9d-8b40-847a069a1af0",
   "metadata": {},
   "outputs": [],
   "source": [
    "# Preprocessing function\n",
    "\n",
    "stop_words = set(stopwords.words('english'))\n",
    "lemmatizer = WordNetLemmatizer()\n",
    "\n",
    "def clean_text(text):\n",
    "    text = re.sub(r'<[^>]+>', '', text)  # Remove HTML tags\n",
    "    text = re.sub(r'https?://\\S+', '', text)  # Remove URLs\n",
    "    text = re.sub(r'\\W', ' ', text)  # Remove special characters\n",
    "    tokens = word_tokenize(text.lower())\n",
    "    tokens = [lemmatizer.lemmatize(word) for word in tokens if word not in stop_words]\n",
    "    return ' '.join(tokens)"
   ]
  },
  {
   "cell_type": "code",
   "execution_count": 9,
   "id": "64df8aca-5c96-4f5b-8613-ec23e47d55b5",
   "metadata": {},
   "outputs": [],
   "source": [
    "# Apply preprocessing\n",
    "\n",
    "df['cleaned_text'] = df['email_text'].apply(clean_text)"
   ]
  },
  {
   "cell_type": "code",
   "execution_count": 10,
   "id": "49eb1462-abc3-41d8-b002-8e331e8da451",
   "metadata": {},
   "outputs": [],
   "source": [
    "# Train-test split\n",
    "\n",
    "X = df['cleaned_text']\n",
    "y = df['label']\n",
    "X_train, X_test, y_train, y_test = train_test_split(X, y, test_size=0.2, random_state=42)"
   ]
  },
  {
   "cell_type": "code",
   "execution_count": 11,
   "id": "6333f1ce-3007-4c4a-baca-d6440d9f2c13",
   "metadata": {},
   "outputs": [],
   "source": [
    "# TF-IDF Vectorization\n",
    "\n",
    "tfidf = TfidfVectorizer(max_features=5000)\n",
    "X_train_tfidf = tfidf.fit_transform(X_train)\n",
    "X_test_tfidf = tfidf.transform(X_test)"
   ]
  },
  {
   "cell_type": "code",
   "execution_count": 12,
   "id": "0caba795-dd7c-49c1-8249-83974e402185",
   "metadata": {},
   "outputs": [
    {
     "data": {
      "text/plain": [
       "RandomForestClassifier(random_state=42)"
      ]
     },
     "execution_count": 12,
     "metadata": {},
     "output_type": "execute_result"
    }
   ],
   "source": [
    "# Model training\n",
    "\n",
    "model = RandomForestClassifier(n_estimators=100, random_state=42)\n",
    "model.fit(X_train_tfidf, y_train)"
   ]
  },
  {
   "cell_type": "code",
   "execution_count": 13,
   "id": "419bb8ab-592e-45ff-85f0-2c617e0b3d97",
   "metadata": {},
   "outputs": [
    {
     "name": "stdout",
     "output_type": "stream",
     "text": [
      "Accuracy: 0.9621983914209116\n",
      "Confusion Matrix:\n",
      "[[2194   79]\n",
      " [  62 1395]]\n",
      "Classification Report:\n",
      "              precision    recall  f1-score   support\n",
      "\n",
      "           0       0.97      0.97      0.97      2273\n",
      "           1       0.95      0.96      0.95      1457\n",
      "\n",
      "    accuracy                           0.96      3730\n",
      "   macro avg       0.96      0.96      0.96      3730\n",
      "weighted avg       0.96      0.96      0.96      3730\n",
      "\n"
     ]
    }
   ],
   "source": [
    "# Model evaluation\n",
    "\n",
    "y_pred = model.predict(X_test_tfidf)\n",
    "print(\"Accuracy:\", accuracy_score(y_test, y_pred))\n",
    "print(\"Confusion Matrix:\")\n",
    "print(confusion_matrix(y_test, y_pred))\n",
    "print(\"Classification Report:\")\n",
    "print(classification_report(y_test, y_pred))"
   ]
  },
  {
   "cell_type": "code",
   "execution_count": 14,
   "id": "04680b94-2d1d-4659-b135-67866f88d695",
   "metadata": {},
   "outputs": [
    {
     "data": {
      "image/png": "[encoded data removed]",
      "text/plain": [
       "<Figure size 640x480 with 2 Axes>"
      ]
     },
     "metadata": {},
     "output_type": "display_data"
    }
   ],
   "source": [
    "# Confusion matrix visualization\n",
    "\n",
    "conf_matrix = confusion_matrix(y_test, y_pred)\n",
    "sns.heatmap(conf_matrix, annot=True, fmt='d', cmap='Blues', xticklabels=['Safe', 'Phishing'], yticklabels=['Safe', 'Phishing'])\n",
    "plt.title('Confusion Matrix')\n",
    "plt.xlabel('Predicted')\n",
    "plt.ylabel('Actual')\n",
    "plt.show()"
   ]
  },
  {
   "cell_type": "code",
   "execution_count": 18,
   "id": "d386417e-fdd4-44f4-98d6-119c02973597",
   "metadata": {},
   "outputs": [
    {
     "name": "stdout",
     "output_type": "stream",
     "text": [
      "Vectorizer saved successfully!\n"
     ]
    }
   ],
   "source": [
    "import pickle\n",
    "import os\n",
    "from sklearn.feature_extraction.text import TfidfVectorizer\n",
    "\n",
    "# Ensure the 'models' directory exists\n",
    "if not os.path.exists(\"models\"):\n",
    "    os.makedirs(\"models\")\n",
    "\n",
    "# Define sample training data (replace with actual training dataset)\n",
    "X_train = [\"This is a safe email\", \"Urgent! Your account has been compromised\"]\n",
    "y_train = [0, 1]  # 0 = Safe, 1 = Phishing\n",
    "\n",
    "# Initialize TF-IDF Vectorizer (if not previously defined)\n",
    "vectorizer = TfidfVectorizer(max_features=5000)\n",
    "X_train_tfidf = vectorizer.fit_transform(X_train)\n",
    "\n",
    "# Save the trained vectorizer\n",
    "with open(\"models/tfidf_vectorizer.pkl\", \"wb\") as vectorizer_file:\n",
    "    pickle.dump(vectorizer, vectorizer_file)\n",
    "\n",
    "print(\"Vectorizer saved successfully!\")\n"
   ]
  },
  {
   "cell_type": "code",
   "execution_count": 22,
   "id": "289c57d3-86d4-44cc-ab86-33b6c03eb0f7",
   "metadata": {},
   "outputs": [
    {
     "name": "stdout",
     "output_type": "stream",
     "text": [
      " Model loaded successfully.\n",
      " Vectorizer loaded successfully.\n",
      "Prediction:  Prediction error: X has 10 features, but RandomForestClassifier is expecting 5000 features as input.\n"
     ]
    }
   ],
   "source": [
    "import pickle\n",
    "import os\n",
    "\n",
    "# Define paths\n",
    "MODEL_PATH = \"models/phishing_model.pkl\"\n",
    "VECTORIZER_PATH = \"models/tfidf_vectorizer.pkl\"\n",
    "\n",
    "# Initialize model and vectorizer as None\n",
    "model, vectorizer = None, None\n",
    "\n",
    "def load_model_and_vectorizer():\n",
    "    \"\"\"Loads the trained phishing detection model and TF-IDF vectorizer.\"\"\"\n",
    "    global model, vectorizer\n",
    "\n",
    "    if not os.path.exists(MODEL_PATH):\n",
    "        print(f\" Error: Model file '{MODEL_PATH}' not found.\")\n",
    "        return\n",
    "    \n",
    "    if not os.path.exists(VECTORIZER_PATH):\n",
    "        print(f\" Error: Vectorizer file '{VECTORIZER_PATH}' not found.\")\n",
    "        return\n",
    "\n",
    "    try:\n",
    "        with open(MODEL_PATH, \"rb\") as model_file:\n",
    "            model = pickle.load(model_file)\n",
    "        print(\" Model loaded successfully.\")\n",
    "\n",
    "        with open(VECTORIZER_PATH, \"rb\") as vectorizer_file:\n",
    "            vectorizer = pickle.load(vectorizer_file)\n",
    "        print(\" Vectorizer loaded successfully.\")\n",
    "\n",
    "    except Exception as e:\n",
    "        print(f\" Error loading model/vectorizer: {e}\")\n",
    "\n",
    "# Call the function to load them\n",
    "load_model_and_vectorizer()\n",
    "\n",
    "# Ensure model is loaded before making predictions\n",
    "if model and vectorizer:\n",
    "    def predict_email(email_content):\n",
    "        \"\"\"Predicts if an email is phishing or legitimate.\"\"\"\n",
    "        try:\n",
    "            transformed_content = vectorizer.transform([email_content])\n",
    "            prediction = model.predict(transformed_content)[0]\n",
    "            return \"Phishing\" if prediction == 1 else \"Legitimate\"\n",
    "        except Exception as e:\n",
    "            return f\" Prediction error: {e}\"\n",
    "\n",
    "    # Test the function\n",
    "    sample_email = \"You have won a free iPhone! Click the link to claim your prize.\"\n",
    "    print(\"Prediction:\", predict_email(sample_email))\n",
    "else:\n",
    "    print(\"Model and vectorizer not loaded. Prediction cannot be performed.\")\n"
   ]
  },
  {
   "cell_type": "code",
   "execution_count": 24,
   "id": "32849c5c-b62a-49b2-aeb6-9c22c1ff9217",
   "metadata": {},
   "outputs": [],
   "source": [
    "from googleapiclient.discovery import build\n",
    "from google.oauth2.credentials import Credentials\n",
    "\n",
    "def fetch_emails():\n",
    "    \"\"\"Fetch emails from Gmail.\"\"\"\n",
    "    creds = Credentials.from_authorized_user_file('credentials.json', ['https://www.googleapis.com/auth/gmail.readonly'])\n",
    "    service = build('gmail', 'v1', credentials=creds)\n",
    "\n",
    "    # Fetch emails\n",
    "    results = service.users().messages().list(userId='me', labelIds=['INBOX'], maxResults=10).execute()\n",
    "    messages = results.get('messages', [])\n",
    "    for message in messages:\n",
    "        msg = service.users().messages().get(userId='me', id=message['id']).execute()\n",
    "        email_content = msg.get('snippet', '')\n",
    "        prediction = predict_email(email_content)\n",
    "        print(f\"Email: {email_content}\\nPrediction: {prediction}\\n\")"
   ]
  },
  {
   "cell_type": "code",
   "execution_count": 26,
   "id": "06eed8d0-45a9-48f5-ab82-048a3a4326c5",
   "metadata": {},
   "outputs": [],
   "source": [
    "# %%writefile app/train_model.py"
   ]
  },
  {
   "cell_type": "code",
   "execution_count": 28,
   "id": "4fca7abe-1fcb-46e5-9e43-ace1e4b6c9a6",
   "metadata": {},
   "outputs": [
    {
     "name": "stdout",
     "output_type": "stream",
     "text": [
      "Dockerfile created successfully!\n"
     ]
    }
   ],
   "source": [
    "# Dockerfile content\n",
    "dockerfile_content = \"\"\"\n",
    "# Base image\n",
    "FROM python:3.9-slim\n",
    "\n",
    "# Set the working directory\n",
    "WORKDIR /app\n",
    "\n",
    "# Copy the app files\n",
    "COPY . /app\n",
    "\n",
    "# Install dependencies\n",
    "RUN pip install -r requirements.txt\n",
    "\n",
    "# Expose the app port\n",
    "EXPOSE 5000\n",
    "\n",
    "# Run the app\n",
    "CMD [\"python\", \"app.py\"]\n",
    "\"\"\"\n",
    "\n",
    "# Write the Dockerfile to the current directory\n",
    "with open(\"Dockerfile\", \"w\") as dockerfile:\n",
    "    dockerfile.write(dockerfile_content)\n",
    "\n",
    "print(\"Dockerfile created successfully!\")"
   ]
  },
  {
   "cell_type": "code",
   "execution_count": null,
   "id": "a9e2f521-d59f-4ab1-a02a-e6ed7cecf8c9",
   "metadata": {},
   "outputs": [],
   "source": []
  }
 ],
 "metadata": {
  "kernelspec": {
   "display_name": "Python [conda env:base] *",
   "language": "python",
   "name": "conda-base-py"
  },
  "language_info": {
   "codemirror_mode": {
    "name": "ipython",
    "version": 3
   },
   "file_extension": ".py",
   "mimetype": "text/x-python",
   "name": "python",
   "nbconvert_exporter": "python",
   "pygments_lexer": "ipython3",
   "version": "3.9.13"
  }
 },
 "nbformat": 4,
 "nbformat_minor": 5
}
